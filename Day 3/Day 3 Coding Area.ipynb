{
 "cells": [
  {
   "cell_type": "code",
   "execution_count": 770,
   "metadata": {
    "collapsed": true
   },
   "outputs": [],
   "source": [
    "import collections"
   ]
  },
  {
   "cell_type": "code",
   "execution_count": 23,
   "outputs": [],
   "source": [
    "symbols = [\"*\", \"$\", \"#\",\"+\",\"@\",\"-\",\"-\",\"/\",\"=\",\"%\",\"&\"]\n",
    "part_num_co_ords_dict = {}\n",
    "symbol_co_ord_dict = {}\n",
    "\n"
   ],
   "metadata": {
    "collapsed": false,
    "pycharm": {
     "name": "#%%\n"
    }
   }
  },
  {
   "cell_type": "code",
   "execution_count": 27,
   "outputs": [],
   "source": [
    "\n",
    "line_num = 0\n",
    "column_num = 0\n",
    "part_num_list = []\n",
    "temp_part_num_list = []\n",
    "counter = 0\n",
    "updated_file_list = []\n",
    "check_around_symbol_list = []\n",
    "#Open Example file\n",
    "with open(\"Day3_Input_Part1_Example.txt\") as file:\n",
    "\n",
    "\n",
    "\n",
    "    #loop through each line\n",
    "    for index_line, line in enumerate(file):\n",
    "        updated_file_list.append([])\n",
    "        #loop through each column in line\n",
    "        for index_column, column in enumerate(line.strip()):\n",
    "            # print(index_line,index_column)\n",
    "            #check if value, if value continue loop\n",
    "            if column.isnumeric(): #start reading part number\n",
    "                temp_part_num_list.append(column)\n",
    "                continue\n",
    "            elif (not column.isnumeric()) and (temp_part_num_list): #once part number stops creating the part number as a string\n",
    "                temp = \"\".join(temp_part_num_list)\n",
    "                part_num_list.append(temp)\n",
    "\n",
    "                for index_re_write in range(len(temp)):\n",
    "                    updated_file_list[index_line].append(temp)\n",
    "\n",
    "\n",
    "\n",
    "                temp_part_num_list = []\n",
    "                updated_file_list[index_line].append(column)\n",
    "                if column in symbols:\n",
    "                    for x in range(-1,2):\n",
    "                        for y in range(-1,2):\n",
    "                            check_around_symbol_list.append(([int(index_line+x),int(index_column+y)]))\n",
    "            else:\n",
    "                # print(index_line, index_column)\n",
    "                # print(column)\n",
    "                updated_file_list[index_line].append(column)\n",
    "                if column in symbols:\n",
    "                    for x in range(-1,2):\n",
    "                        for y in range(-1,2):\n",
    "                            check_around_symbol_list.append(([int(index_line+x),int(index_column+y)]))\n",
    "        \"\"\"\n",
    "        Look into it failing on digits at end of list\n",
    "        \"\"\"\n",
    "        temp = \"\".join(temp_part_num_list)\n",
    "        part_num_list.append(temp)\n",
    "\n",
    "        for index_re_write in range(len(temp)):\n",
    "            updated_file_list[index_line].append(temp)\n",
    "\n",
    "\n",
    "\n",
    "        temp_part_num_list = []\n",
    "\n"
   ],
   "metadata": {
    "collapsed": false,
    "pycharm": {
     "name": "#%%\n"
    }
   }
  },
  {
   "cell_type": "code",
   "execution_count": 28,
   "outputs": [
    {
     "data": {
      "text/plain": "[['467', '467', '467', '.', '.', '114', '114', '114', '.', '*'],\n ['.', '.', '.', '*', '.', '.', '.', '222', '222', '222'],\n ['.', '.', '35', '35', '.', '.', '633', '633', '633', '.'],\n ['.', '.', '.', '.', '.', '.', '#', '.', '.', '.'],\n ['617', '617', '617', '*', '.', '.', '.', '.', '.', '.'],\n ['.', '.', '.', '.', '.', '+', '.', '58', '58', '.'],\n ['.', '.', '592', '592', '592', '.', '.', '.', '.', '.'],\n ['.', '.', '.', '.', '.', '.', '755', '755', '755', '.'],\n ['.', '.', '.', '$', '.', '*', '.', '.', '.', '.'],\n ['.', '664', '664', '664', '.', '598', '598', '598', '.', '.']]"
     },
     "execution_count": 28,
     "metadata": {},
     "output_type": "execute_result"
    }
   ],
   "source": [
    "updated_file_list"
   ],
   "metadata": {
    "collapsed": false,
    "pycharm": {
     "name": "#%%\n"
    }
   }
  },
  {
   "cell_type": "code",
   "execution_count": 29,
   "outputs": [
    {
     "data": {
      "text/plain": "[[-1, 8],\n [-1, 9],\n [-1, 10],\n [0, 8],\n [0, 9],\n [0, 10],\n [1, 8],\n [1, 9],\n [1, 10],\n [0, 2],\n [0, 3],\n [0, 4],\n [1, 2],\n [1, 3],\n [1, 4],\n [2, 2],\n [2, 3],\n [2, 4],\n [2, 5],\n [2, 6],\n [2, 7],\n [3, 5],\n [3, 6],\n [3, 7],\n [4, 5],\n [4, 6],\n [4, 7],\n [3, 2],\n [3, 3],\n [3, 4],\n [4, 2],\n [4, 3],\n [4, 4],\n [5, 2],\n [5, 3],\n [5, 4],\n [4, 4],\n [4, 5],\n [4, 6],\n [5, 4],\n [5, 5],\n [5, 6],\n [6, 4],\n [6, 5],\n [6, 6],\n [7, 2],\n [7, 3],\n [7, 4],\n [8, 2],\n [8, 3],\n [8, 4],\n [9, 2],\n [9, 3],\n [9, 4],\n [7, 4],\n [7, 5],\n [7, 6],\n [8, 4],\n [8, 5],\n [8, 6],\n [9, 4],\n [9, 5],\n [9, 6]]"
     },
     "execution_count": 29,
     "metadata": {},
     "output_type": "execute_result"
    }
   ],
   "source": [
    "check_around_symbol_list"
   ],
   "metadata": {
    "collapsed": false,
    "pycharm": {
     "name": "#%%\n"
    }
   }
  },
  {
   "cell_type": "code",
   "execution_count": 30,
   "outputs": [
    {
     "name": "stdout",
     "output_type": "stream",
     "text": [
      "succes:[0, 8]\n",
      "succes:[0, 9]\n",
      "succes:[1, 8]\n",
      "succes:[1, 9]\n",
      "succes:[0, 2]\n",
      "succes:[0, 3]\n",
      "succes:[0, 4]\n",
      "succes:[1, 2]\n",
      "succes:[1, 3]\n",
      "succes:[1, 4]\n",
      "succes:[2, 2]\n",
      "succes:[2, 3]\n",
      "succes:[2, 4]\n",
      "succes:[2, 5]\n",
      "succes:[2, 6]\n",
      "succes:[2, 7]\n",
      "succes:[3, 5]\n",
      "succes:[3, 6]\n",
      "succes:[3, 7]\n",
      "succes:[4, 5]\n",
      "succes:[4, 6]\n",
      "succes:[4, 7]\n",
      "succes:[3, 2]\n",
      "succes:[3, 3]\n",
      "succes:[3, 4]\n",
      "succes:[4, 2]\n",
      "succes:[4, 3]\n",
      "succes:[4, 4]\n",
      "succes:[5, 2]\n",
      "succes:[5, 3]\n",
      "succes:[5, 4]\n",
      "succes:[4, 4]\n",
      "succes:[4, 5]\n",
      "succes:[4, 6]\n",
      "succes:[5, 4]\n",
      "succes:[5, 5]\n",
      "succes:[5, 6]\n",
      "succes:[6, 4]\n",
      "succes:[6, 5]\n",
      "succes:[6, 6]\n",
      "succes:[7, 2]\n",
      "succes:[7, 3]\n",
      "succes:[7, 4]\n",
      "succes:[8, 2]\n",
      "succes:[8, 3]\n",
      "succes:[8, 4]\n",
      "succes:[9, 2]\n",
      "succes:[9, 3]\n",
      "succes:[9, 4]\n",
      "succes:[7, 4]\n",
      "succes:[7, 5]\n",
      "succes:[7, 6]\n",
      "succes:[8, 4]\n",
      "succes:[8, 5]\n",
      "succes:[8, 6]\n",
      "succes:[9, 4]\n",
      "succes:[9, 5]\n",
      "succes:[9, 6]\n"
     ]
    }
   ],
   "source": [
    "temp_sum_list = []\n",
    "\n",
    "for check_value in check_around_symbol_list:\n",
    "    if check_value[0] < len(updated_file_list) and check_value[0] >= 0:\n",
    "        if check_value[1] < len(updated_file_list[check_value[0]]) and check_value[1] >= 0:\n",
    "            print(f\"succes:{check_value}\")\n",
    "            value = updated_file_list[check_value[0]][check_value[1]]\n",
    "            if value.isnumeric():\n",
    "                temp_sum_list.append(int(value))\n",
    "\n"
   ],
   "metadata": {
    "collapsed": false,
    "pycharm": {
     "name": "#%%\n"
    }
   }
  },
  {
   "cell_type": "code",
   "execution_count": 21,
   "outputs": [
    {
     "name": "stdout",
     "output_type": "stream",
     "text": [
      "11556\n"
     ]
    }
   ],
   "source": [
    "print(sum(temp_sum_list))\n"
   ],
   "metadata": {
    "collapsed": false,
    "pycharm": {
     "name": "#%%\n"
    }
   }
  },
  {
   "cell_type": "code",
   "execution_count": 22,
   "outputs": [
    {
     "data": {
      "text/plain": "6850"
     },
     "execution_count": 22,
     "metadata": {},
     "output_type": "execute_result"
    }
   ],
   "source": [
    "sum(set(temp_sum_list))\n"
   ],
   "metadata": {
    "collapsed": false,
    "pycharm": {
     "name": "#%%\n"
    }
   }
  },
  {
   "cell_type": "code",
   "execution_count": 8,
   "outputs": [
    {
     "name": "stdout",
     "output_type": "stream",
     "text": [
      "536576 75741499\n",
      "dict_values([[159], [954], [283, 341], [807, 7], [867, 31], [370], [539, 873], [48], [456, 726], [424], [554, 126], [571, 699], [253], [971, 584], [958, 750], [405], [166], [73, 336], [94, 308], [793], [391, 924], [860, 91], [136], [435, 932], [576, 599], [351], [888], [55, 931], [446], [535, 765], [87, 805], [479, 149], [826], [949], [120, 216], [985], [462, 906], [358], [304], [471, 630], [601], [459], [345], [693], [827, 327], [375], [575, 970], [105], [865, 305], [923, 166], [656], [916], [340, 212], [432], [915], [288, 183], [536], [201, 960], [905], [367], [386, 963], [939], [345, 915], [326], [367], [726], [863], [592], [664], [650], [3, 673], [122, 307], [657, 387], [3, 12], [498, 216], [166, 14], [491, 59], [297, 132], [398, 466], [419, 787], [319], [955, 94], [537, 8], [690], [955], [593], [967], [593, 256], [422], [63, 478], [733], [931, 738], [871, 529], [920, 346], [903, 754], [646, 715], [383, 174], [573], [121], [576], [354], [20], [611], [368, 595], [796, 653], [109], [882], [905], [579, 65], [724], [446], [400], [417, 371], [529], [103], [614], [795], [829], [246, 912], [714, 314], [490, 612], [359, 712], [678, 69], [111, 576], [162, 978], [252, 805], [341, 502], [262, 455], [922], [334, 927], [979], [310, 462], [864, 163], [956, 242], [921], [381, 293], [549, 30], [13, 841], [87], [953, 207], [786], [628], [930, 60], [521], [622], [498], [746, 548], [815], [347, 357], [792], [162, 619], [456], [730], [584], [963, 617], [356], [248], [881], [144, 696], [15, 852], [858], [560, 341], [765], [818, 534], [977, 537], [350], [758], [754], [860, 450], [160, 188], [462], [130, 650], [742], [873, 322], [260], [152, 560], [949], [137, 453], [229, 898], [199], [718, 185], [445], [441], [662], [189], [796], [486], [426, 83], [63], [620, 447], [137, 377], [745], [723], [619, 971], [653, 729], [887], [183], [749], [538], [327], [793], [533, 187], [854], [593], [446, 220], [284], [192], [732, 193], [754], [356, 798], [703, 479], [372], [670], [571], [823], [899], [757, 805], [323, 177], [236, 81], [513], [60, 106], [66], [85], [51], [218], [553, 565], [998], [881], [772, 558], [156], [478, 220], [655, 343], [584], [994], [387], [852], [982, 448], [290], [555], [515], [224], [34, 559], [888, 106], [415], [405], [341, 191], [56, 474], [78], [185, 889], [443, 706], [276, 891], [288, 169], [737], [404], [242, 920], [731], [873, 56], [545], [56], [772], [548, 654], [872], [727], [648], [52, 273], [282], [772], [754, 255], [84, 788], [203, 24], [982], [690, 291], [454], [710, 283], [69], [669, 292], [564], [665], [566, 603], [38], [544, 120], [715], [18], [761], [871, 404], [994], [535], [929, 318], [215], [812, 691], [17], [448, 704], [207], [103], [738], [684], [77], [898], [821, 526], [344], [354], [134, 174], [537], [146], [862], [939, 961], [192], [672], [185], [623], [297, 479], [638, 517], [306, 183], [676], [204, 81], [522], [293, 535], [812, 242], [513, 902], [779], [811, 222], [870], [531], [395], [191, 827], [242, 212], [435], [752, 84], [474], [184, 472], [484], [497], [994], [265, 444], [403, 43], [943], [672], [881], [235], [137], [775, 402], [730], [379], [168], [121], [468], [770], [820], [369, 38], [759], [72], [414, 570], [920], [399], [510], [480], [808], [736], [438], [337], [6], [695], [287], [123], [995], [947, 137], [206, 867], [704], [474, 867], [413], [416], [416, 20], [388], [20, 9], [529], [79], [957, 795], [458, 35], [765, 165], [241, 777], [950], [85], [239], [552, 282], [307], [581, 572], [798], [592, 815], [877, 48], [137], [884, 597], [287, 700], [843], [743], [11], [56, 6], [321, 913], [372], [650, 829], [397, 724], [38], [133, 158], [737], [235, 800], [339, 342], [320], [646], [168, 60], [996, 241], [764], [835, 920], [370, 661], [440], [55], [333], [219, 604], [965], [23], [592], [132], [522], [185, 617], [446], [55, 975], [909], [587, 372], [564, 412], [128, 770], [851], [857], [614], [691], [448, 49], [893], [249], [872], [639], [887], [166, 112], [809], [369, 251], [491, 874], [426, 863], [880], [475], [511], [420], [366, 647], [344], [72], [990, 491], [329], [363, 887], [774, 727], [328], [851], [965], [274], [864, 97], [678], [904, 692], [281, 413], [185, 741], [108], [358, 191], [313], [352], [823], [337], [282, 711], [616, 482], [583, 901], [58, 297], [372, 895], [548, 186], [114, 547], [947], [487], [459, 387], [44, 31], [885, 884], [753, 457], [814, 400], [613], [119], [762, 913], [832], [744, 553], [230], [130, 160], [898], [489, 341], [970, 91], [712], [376, 140], [446, 424], [730, 791], [606], [687, 375], [160], [566], [545], [466, 193], [988, 387], [866], [360, 689], [47, 552], [344, 865], [246], [119], [10], [716], [138], [89], [917], [731], [276, 653], [678, 970], [186, 98], [199, 847], [279, 478], [836, 536], [434, 968], [178, 656], [740], [853], [460, 432], [340, 854], [108], [119], [339], [4], [643], [485], [178], [641, 292], [626, 784], [740, 493], [549, 987], [469, 270], [583, 371], [536], [762, 264], [251], [475, 282], [371], [831], [375, 980], [519], [13], [26], [892], [23, 845], [639], [587, 741], [792], [609], [765, 800], [897], [276], [961], [259, 734], [503], [978, 351], [704], [288], [861, 51], [46], [825], [243, 922], [466, 116], [678], [732, 128], [747], [612, 218], [325], [97, 105], [595], [613], [254, 6], [554, 174], [691, 738], [501], [836, 752], [225, 939], [57], [657, 262], [643], [333], [698], [715], [208, 216], [925, 754], [990], [952, 421], [916, 377], [326], [607], [79, 182], [118], [615, 339], [285], [449, 979], [843, 454], [345, 995], [255, 141], [367, 283], [985], [491], [814], [182, 723], [895], [328, 563], [544], [978, 667], [478, 274], [273], [932, 836], [201], [463], [124], [955, 473], [958], [147], [152], [835], [900, 611], [674, 48], [158], [208, 535], [772], [835], [965], [732], [891, 380], [618], [64, 724], [891, 858], [72, 635], [519, 289], [783, 754], [511, 310], [681], [907], [836, 886], [565, 773], [679, 949], [93], [215], [446, 791], [49], [308], [895], [836], [472, 153], [14], [827, 430], [16], [572], [379], [161], [334], [128, 385], [481], [741, 472], [983, 47], [43], [91], [837], [64], [697], [494, 282], [699, 89], [975], [109, 280], [432, 132], [323], [974], [58], [100], [345, 950], [959, 119], [29], [204], [19], [4, 309], [254, 885], [41, 27], [132], [270, 461], [228], [662], [119, 787], [885], [654], [990], [291, 219], [445, 564], [404], [430], [132, 353], [848], [634], [53], [385], [121, 245], [172, 555], [812, 599], [677], [598, 804], [259], [12], [827, 438], [130, 580], [792, 297], [383, 728], [690, 645], [34], [992], [505], [766], [941], [67, 138], [241, 581], [239, 808], [41, 324], [660], [816], [512], [609], [248, 858], [353], [230], [486], [12], [493], [367], [838, 339], [357], [707, 666], [147], [26], [630, 195], [26], [279], [739], [152], [279, 887], [754], [405, 472], [1], [119, 451], [521], [98, 904]])\n"
     ]
    }
   ],
   "source": [
    "\n",
    "import math as m, re\n",
    "\n",
    "board = list(open('Day3_Input_Part1.txt'))\n",
    "chars = {(r, c): [] for r in range(140) for c in range(140)\n",
    "                    if board[r][c] not in '01234566789.'}\n",
    "\n",
    "for r, row in enumerate(board):\n",
    "    for n in re.finditer(r'\\d+', row):\n",
    "        edge = {(r, c) for r in (r-1, r, r+1)\n",
    "                       for c in range(n.start()-1, n.end()+1)}\n",
    "\n",
    "        for o in edge & chars.keys():\n",
    "            chars[o].append(int(n.group()))\n",
    "\n",
    "print(sum(sum(p)    for p in chars.values()),\n",
    "      sum(m.prod(p) for p in chars.values() if len(p)==2))\n",
    "\n",
    "print((chars.values()))"
   ],
   "metadata": {
    "collapsed": false,
    "pycharm": {
     "name": "#%%\n"
    }
   }
  },
  {
   "cell_type": "code",
   "execution_count": 9,
   "outputs": [
    {
     "name": "stdout",
     "output_type": "stream",
     "text": [
      "536576\n",
      "75741499\n"
     ]
    }
   ],
   "source": [
    "with open('Day3_Input_Part1.txt') as f:\n",
    "    lines = f.readlines()\n",
    "\n",
    "def find_full_number(lines, y, x):\n",
    "    # Given a single cell containing a digit, move a slider left and right to capture the full number.\n",
    "    start_index, end_index = x, x\n",
    "    while start_index > 0:\n",
    "        if start_index-1 < 0 or not lines[y][start_index-1].isdigit():\n",
    "            break\n",
    "        start_index -= 1\n",
    "    while end_index < len(lines[y]):\n",
    "        if end_index+1 >= len(lines[y]) or not lines[y][end_index+1].isdigit():\n",
    "            break\n",
    "        end_index += 1\n",
    "    return int(lines[y][start_index:end_index+1])\n",
    "\n",
    "def get_top_or_bottom(lines, y, x, check_top):\n",
    "    # Given a single cell (above or below the discovered symbol), calculate the sum of the row.\n",
    "    if check_top: y -= 1\n",
    "    else: y += 1\n",
    "    if y < 0 or y > len(lines): return 0\n",
    "    mid_empty = True if lines[y][x] == '.' else False\n",
    "    left_num, right_num = 0, 0\n",
    "    if mid_empty:\n",
    "        if x-1 >= 0 and lines[y][x-1].isdigit():\n",
    "            left_num = find_full_number(lines, y, x-1)\n",
    "        if x+1 < len(lines[y]) and lines[y][x+1].isdigit():\n",
    "            right_num = find_full_number(lines, y, x+1)\n",
    "    else:\n",
    "        left_num = find_full_number(lines, y, x)\n",
    "    return left_num + right_num\n",
    "\n",
    "def get_sum_of_neighbors(lines, y, x):\n",
    "    # Find all numbers adjacent to a symbol and return it's sum\n",
    "    top = get_top_or_bottom(lines, y, x, True)\n",
    "    left = find_full_number(lines, y, x-1) if x-1 > 0 and lines[y][x-1].isdigit() else 0\n",
    "    right = find_full_number(lines, y, x+1) if x+1 < len(lines[y]) and lines[y][x+1].isdigit() else 0\n",
    "    bottom = get_top_or_bottom(lines, y, x, False)\n",
    "    return top + left + right + bottom\n",
    "\n",
    "lines = [line.strip('\\n') for line in lines]\n",
    "counter = 0\n",
    "for line in range(len(lines)):\n",
    "    for char in range(len(lines[line])):\n",
    "        if not lines[line][char].isdigit() and lines[line][char] != '.':\n",
    "            counter += get_sum_of_neighbors(lines, line, char)\n",
    "print(counter)\n",
    "\n",
    "\n",
    "with open('Day3_Input_Part1.txt') as f:\n",
    "    lines = f.readlines()\n",
    "\n",
    "def find_full_number(lines, y, x):\n",
    "    # Given a single cell containing a digit, move a slider left and right to capture the full number.\n",
    "    start_index, end_index = x, x\n",
    "    while start_index > 0:\n",
    "        if start_index-1 < 0 or not lines[y][start_index-1].isdigit():\n",
    "            break\n",
    "        start_index -= 1\n",
    "    while end_index < len(lines[y]):\n",
    "        if end_index+1 >= len(lines[y]) or not lines[y][end_index+1].isdigit():\n",
    "            break\n",
    "        end_index += 1\n",
    "    return int(lines[y][start_index:end_index+1])\n",
    "\n",
    "def get_top_or_bottom(lines, y, x, check_top):\n",
    "    # Given a single cell (above or below the discovered symbol), calculate the sum of the row.\n",
    "    # In part 2, I've also added the start/end indices of the number to the return.\n",
    "    if check_top: y -= 1\n",
    "    else: y += 1\n",
    "    if y < 0 or y > len(lines): return 0\n",
    "    mid_empty = True if lines[y][x] == '.' else False\n",
    "    left_num, right_num = 0, 0\n",
    "    if mid_empty:\n",
    "        if x-1 >= 0 and lines[y][x-1].isdigit():\n",
    "            left_num = find_full_number(lines, y, x-1)\n",
    "        if x+1 < len(lines[y]) and lines[y][x+1].isdigit():\n",
    "            right_num = find_full_number(lines, y, x+1)\n",
    "    else:\n",
    "        left_num = find_full_number(lines, y, x)\n",
    "    return (left_num + right_num, left_num, right_num)\n",
    "\n",
    "def get_gear_ratio(lines, y, x):\n",
    "    # Get all adjacent numbers. If there's exactly two non-zero values, return their product, otherwise return 0.\n",
    "    top = get_top_or_bottom(lines, y, x, True)\n",
    "    left = find_full_number(lines, y, x-1) if x-1 > 0 and lines[y][x-1].isdigit() else 0\n",
    "    right = find_full_number(lines, y, x+1) if x+1 < len(lines[y]) and lines[y][x+1].isdigit() else 0\n",
    "    bottom = get_top_or_bottom(lines, y, x, False)\n",
    "    nums = [top[1], top[2], left, right, bottom[1], bottom[2]]\n",
    "    product = 1\n",
    "    if nums.count(0) == len(nums) - 2:\n",
    "        for i in nums:\n",
    "            if i: product *= i\n",
    "        return product\n",
    "    return 0\n",
    "\n",
    "lines = [line.strip('\\n') for line in lines]\n",
    "counter = 0\n",
    "for line in range(len(lines)):\n",
    "    for char in range(len(lines[line])):\n",
    "        if not lines[line][char].isdigit() and lines[line][char] != '.':\n",
    "            counter += get_gear_ratio(lines, line, char)\n",
    "print(counter)"
   ],
   "metadata": {
    "collapsed": false,
    "pycharm": {
     "name": "#%%\n"
    }
   }
  },
  {
   "cell_type": "code",
   "execution_count": 793,
   "outputs": [],
   "source": [],
   "metadata": {
    "collapsed": false,
    "pycharm": {
     "name": "#%%\n"
    }
   }
  },
  {
   "cell_type": "code",
   "execution_count": null,
   "outputs": [],
   "source": [],
   "metadata": {
    "collapsed": false,
    "pycharm": {
     "name": "#%%\n"
    }
   }
  }
 ],
 "metadata": {
  "kernelspec": {
   "display_name": "Python 3",
   "language": "python",
   "name": "python3"
  },
  "language_info": {
   "codemirror_mode": {
    "name": "ipython",
    "version": 2
   },
   "file_extension": ".py",
   "mimetype": "text/x-python",
   "name": "python",
   "nbconvert_exporter": "python",
   "pygments_lexer": "ipython2",
   "version": "2.7.6"
  }
 },
 "nbformat": 4,
 "nbformat_minor": 0
}